{
 "cells": [
  {
   "cell_type": "code",
   "execution_count": 1,
   "metadata": {},
   "outputs": [
    {
     "data": {
      "text/plain": [
       "'c:\\\\Users\\\\aarav\\\\Downloads\\\\MoviesRecommendationSystemMLops\\\\research'"
      ]
     },
     "execution_count": 1,
     "metadata": {},
     "output_type": "execute_result"
    }
   ],
   "source": [
    "%pwd"
   ]
  },
  {
   "cell_type": "code",
   "execution_count": 2,
   "metadata": {},
   "outputs": [],
   "source": [
    "import os\n",
    "os.chdir('../')"
   ]
  },
  {
   "cell_type": "code",
   "execution_count": 3,
   "metadata": {},
   "outputs": [
    {
     "data": {
      "text/plain": [
       "'c:\\\\Users\\\\aarav\\\\Downloads\\\\MoviesRecommendationSystemMLops'"
      ]
     },
     "execution_count": 3,
     "metadata": {},
     "output_type": "execute_result"
    }
   ],
   "source": [
    "%pwd"
   ]
  },
  {
   "cell_type": "code",
   "execution_count": 23,
   "metadata": {},
   "outputs": [],
   "source": [
    "from dataclasses import dataclass\n",
    "from pathlib import Path \n",
    "\n",
    "@dataclass(frozen=True)\n",
    "class ModelTrainerConfig:\n",
    "    root_dir: Path\n",
    "    data_path: Path \n",
    "    movies_model_name: str \n",
    "    similarity_model_name: str\n",
    "    max_features: int "
   ]
  },
  {
   "cell_type": "code",
   "execution_count": 5,
   "metadata": {},
   "outputs": [],
   "source": [
    "#Configuration Manager"
   ]
  },
  {
   "cell_type": "code",
   "execution_count": 24,
   "metadata": {},
   "outputs": [],
   "source": [
    "from MoviesRecommendationSystemMLops.constants import *\n",
    "from MoviesRecommendationSystemMLops.utils.common import read_yaml, create_directories\n"
   ]
  },
  {
   "cell_type": "code",
   "execution_count": 25,
   "metadata": {},
   "outputs": [],
   "source": [
    "class ConfigurationManager:\n",
    "    def __init__(\n",
    "            self,\n",
    "            config_filepath = CONFIG_FILE_PATH,\n",
    "            params_filepath = PARAMS_FILE_PATH,\n",
    "            schema_filepath = SCHEMA_FILE_PATH):\n",
    "        \n",
    "            self.config = read_yaml(config_filepath)\n",
    "            self.params = read_yaml(params_filepath)\n",
    "            self.schema = read_yaml(schema_filepath)\n",
    "\n",
    "            create_directories([self.config.artifacts_root])\n",
    "    \n",
    "    def get_model_trainer_config(self) -> ModelTrainerConfig:\n",
    "          config = self.config.model_trainer \n",
    "          params = self.params.CountVectorizer \n",
    "          schema = self.schema.COLUMNS\n",
    "          \n",
    "          create_directories([config.root_dir])\n",
    "\n",
    "          model_trainer_config = ModelTrainerConfig(\n",
    "                root_dir=config.root_dir,\n",
    "                data_path=config.data_path,\n",
    "                movies_model_name= config.movies_model_name,\n",
    "                similarity_model_name= config.similarity_model_name,\n",
    "                max_features = params.max_features,\n",
    "          )\n",
    "\n",
    "          return model_trainer_config"
   ]
  },
  {
   "cell_type": "code",
   "execution_count": 26,
   "metadata": {},
   "outputs": [],
   "source": [
    "import pandas as pd\n",
    "import os \n",
    "from MoviesRecommendationSystemMLops import logger \n",
    "import joblib \n",
    "from sklearn.feature_extraction.text import CountVectorizer\n",
    "import nltk \n",
    "from nltk.stem.porter import PorterStemmer\n",
    "from sklearn.metrics.pairwise import cosine_similarity"
   ]
  },
  {
   "cell_type": "code",
   "execution_count": 27,
   "metadata": {},
   "outputs": [],
   "source": [
    "class ModelTrainer:\n",
    "    def __init__(self, config: ModelTrainerConfig):\n",
    "        self.config = config \n",
    "    \n",
    "    def train(self):\n",
    "        data = pd.read_csv(self.config.data_path)\n",
    "        cv = CountVectorizer(max_features=self.config.max_features,stop_words='english')     \n",
    "        vectors = cv.fit_transform(data['tag']).toarray()\n",
    "        ps = PorterStemmer()\n",
    "        def stem(text):\n",
    "            y = []\n",
    "            for i in text.split():\n",
    "                y.append(ps.stem(i))\n",
    "    \n",
    "            return \" \".join(y) \n",
    "        data['tag'] = data['tag'].apply(stem)\n",
    "\n",
    "        similarity = cosine_similarity(vectors)\n",
    "        sorted(list(enumerate(similarity[0])),reverse=True,key=lambda x:x[1])[1:6]\n",
    "\n",
    "        def recommend(movie):\n",
    "            movie_index = data[data['title'] == movie].index[0]\n",
    "            distances = similarity[movie_index]\n",
    "            movies_list = sorted(list(enumerate(distances)),reverse=True,key=lambda x:x[1])[1:6]\n",
    "            for i in movies_list:\n",
    "              print(i)\n",
    "\n",
    "       \n",
    "\n",
    "        # Save the trained model\n",
    "# Save the trained model\n",
    "        model_path = os.path.join(self.config.root_dir, self.config.movies_model_name)\n",
    "        joblib.dump(data.to_dict(), open(model_path, 'wb'))\n",
    "\n",
    "            # Save the similarity model\n",
    "        similarity_path = os.path.join(self.config.root_dir, self.config.similarity_model_name)\n",
    "        joblib.dump(similarity, open(similarity_path, 'wb'))\n"
   ]
  },
  {
   "cell_type": "code",
   "execution_count": 14,
   "metadata": {},
   "outputs": [],
   "source": [
    "# Pipeline"
   ]
  },
  {
   "cell_type": "code",
   "execution_count": 28,
   "metadata": {},
   "outputs": [
    {
     "name": "stdout",
     "output_type": "stream",
     "text": [
      "[2024-01-19 01:33:27,865: INFO: common: yaml file: config\\config.yaml loaded successfully]\n",
      "[2024-01-19 01:33:27,868: INFO: common: yaml file: params.yaml loaded successfully]\n",
      "[2024-01-19 01:33:27,870: INFO: common: yaml file: schema.yaml loaded successfully]\n",
      "[2024-01-19 01:33:27,871: INFO: common: created directory at: artifacts]\n",
      "[2024-01-19 01:33:27,873: INFO: common: created directory at: artifacts/model_trainer]\n"
     ]
    }
   ],
   "source": [
    "try: \n",
    "    config = ConfigurationManager()\n",
    "    model_trainer_config = config.get_model_trainer_config()\n",
    "    model_trainer_config = ModelTrainer(config=model_trainer_config)\n",
    "    model_trainer_config.train()\n",
    "except Exception as e:\n",
    "    raise e"
   ]
  },
  {
   "cell_type": "code",
   "execution_count": null,
   "metadata": {},
   "outputs": [],
   "source": []
  }
 ],
 "metadata": {
  "kernelspec": {
   "display_name": "mrs_env",
   "language": "python",
   "name": "python3"
  },
  "language_info": {
   "codemirror_mode": {
    "name": "ipython",
    "version": 3
   },
   "file_extension": ".py",
   "mimetype": "text/x-python",
   "name": "python",
   "nbconvert_exporter": "python",
   "pygments_lexer": "ipython3",
   "version": "3.9.7"
  }
 },
 "nbformat": 4,
 "nbformat_minor": 2
}
